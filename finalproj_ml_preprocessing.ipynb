{
  "nbformat": 4,
  "nbformat_minor": 0,
  "metadata": {
    "colab": {
      "provenance": [],
      "authorship_tag": "ABX9TyMHCzi0I4Y/qNPj+R1oPhv2",
      "include_colab_link": true
    },
    "kernelspec": {
      "name": "python3",
      "display_name": "Python 3"
    },
    "language_info": {
      "name": "python"
    }
  },
  "cells": [
    {
      "cell_type": "markdown",
      "metadata": {
        "id": "view-in-github",
        "colab_type": "text"
      },
      "source": [
        "<a href=\"https://colab.research.google.com/github/sdingx/ml-cv/blob/main/finalproj_ml_preprocessing.ipynb\" target=\"_parent\"><img src=\"https://colab.research.google.com/assets/colab-badge.svg\" alt=\"Open In Colab\"/></a>"
      ]
    },
    {
      "cell_type": "code",
      "execution_count": null,
      "metadata": {
        "id": "7-aeI_PLbbfE"
      },
      "outputs": [],
      "source": [
        "import numpy as np\n",
        "import pandas as pd\n",
        "import matplotlib.pyplot as plt # image plotting\n",
        "import os\n",
        "import time\n",
        "from PIL import Image, ImageEnhance\n",
        "import xml.etree.ElementTree as ET\n",
        "from tensorflow.keras.preprocessing import image\n",
        "from keras.models import load_model\n",
        "import tensorflow as tf\n",
        "from tensorflow import keras"
      ]
    },
    {
      "cell_type": "code",
      "source": [
        "from google.colab import drive \n",
        "drive.mount('/content/drive')"
      ],
      "metadata": {
        "colab": {
          "base_uri": "https://localhost:8080/"
        },
        "id": "aFX0bwiLbiPl",
        "outputId": "5bcdafb9-a92e-43dc-b7e2-0f3ab75699d4"
      },
      "execution_count": null,
      "outputs": [
        {
          "output_type": "stream",
          "name": "stdout",
          "text": [
            "Mounted at /content/drive\n"
          ]
        }
      ]
    },
    {
      "cell_type": "markdown",
      "source": [
        "## Read all images"
      ],
      "metadata": {
        "id": "ds6hSpwVippM"
      }
    },
    {
      "cell_type": "code",
      "source": [
        "path = '/content/drive/My Drive/S23-ML/final/archive-2/'"
      ],
      "metadata": {
        "id": "IFnP831lbkdO"
      },
      "execution_count": null,
      "outputs": []
    },
    {
      "cell_type": "code",
      "source": [
        "image_folder = path+\"images/\"\n",
        "annot_folder = path+\"annotations/\"\n",
        "\n",
        "# Define the label classes\n",
        "class_name = [\"with_mask\", \"without_mask\"]\n",
        "\n",
        "# Initialize empty lists for images and labels\n",
        "images = []\n",
        "# labels = []\n",
        "all_bbox = []\n",
        "all_mask_cats = []\n",
        "\n",
        "# Loop through the annotation folder\n",
        "for filename in os.listdir(annot_folder):\n",
        "    if filename.endswith(\".xml\"):\n",
        "        # Parse the XML annotation file\n",
        "        annot_path = os.path.join(annot_folder, filename)\n",
        "        tree = ET.parse(annot_path)\n",
        "        root = tree.getroot()\n",
        "        \n",
        "        # Load the corresponding image\n",
        "        image_filename = root.find(\"filename\").text\n",
        "        image_path = os.path.join(image_folder, image_filename)\n",
        "        image = Image.open(image_path).convert(\"RGB\")\n",
        "        \n",
        "        # Initialize empty lists for bounding boxes and labels\n",
        "        bboxes = []\n",
        "        mask_cats = []\n",
        "        \n",
        "        # Loop through all the objects in the XML file\n",
        "        for obj in root.findall(\"object\"):\n",
        "            if obj.find(\"name\").text in class_name:\n",
        "                mask_cat = obj.find(\"name\").text\n",
        "                bndbox = obj.find(\"bndbox\")\n",
        "                xmin = int(bndbox.find(\"xmin\").text)\n",
        "                ymin = int(bndbox.find(\"ymin\").text)\n",
        "                xmax = int(bndbox.find(\"xmax\").text)\n",
        "                ymax = int(bndbox.find(\"ymax\").text)\n",
        "                \n",
        "                # Add the bounding box and label to the lists\n",
        "                all_bbox.append([xmin, ymin, xmax, ymax])\n",
        "                all_mask_cats.append(mask_cat)\n",
        "                cropped_image = image.crop((xmin, ymin, xmax, ymax))\n",
        "                images.append(cropped_image)\n",
        "                \n",
        "        \n",
        "        # all_bbox.append(bboxes)\n",
        "        # all_mask_cats.append(mask_cats)\n",
        "        \n",
        "        # If at least one object with the desired class is found, append the image and labels to the lists\n",
        "        # if len(mask_cats) > 0:\n",
        "        #     images.append(image)\n",
        "            \n",
        "            \n",
        "            # Set the label to 1 for \"with_mask\" or 0 for \"without_mask\"\n",
        "            # labels.append([1 if mask_cat == \"with_mask\" else 0 for mask_cat in mask_cats])\n"
      ],
      "metadata": {
        "id": "xbiXiZXlcBKv"
      },
      "execution_count": null,
      "outputs": []
    },
    {
      "cell_type": "code",
      "source": [
        "print(\"There are\", len(images), \"images,\", len(all_bbox), \"bounding boxes, and\", len(all_mask_cats), \"labels. Numbers\", \"match.\" if len(images) == len(all_mask_cats) else \"don't match.\")"
      ],
      "metadata": {
        "id": "DbHIMY7QcBIW",
        "colab": {
          "base_uri": "https://localhost:8080/"
        },
        "outputId": "b7a9d9ab-a09e-4a01-924b-796023925d4e"
      },
      "execution_count": null,
      "outputs": [
        {
          "output_type": "stream",
          "name": "stdout",
          "text": [
            "There are 3949 images, 3949 bounding boxes, and 3949 labels. Numbers match.\n"
          ]
        }
      ]
    },
    {
      "cell_type": "code",
      "source": [
        "df = pd.DataFrame(all_mask_cats, images).reset_index()\n",
        "df.columns = [\"image\", \"mask_cat\"]"
      ],
      "metadata": {
        "id": "84psCmNgW92N"
      },
      "execution_count": null,
      "outputs": []
    },
    {
      "cell_type": "code",
      "source": [
        "df.head(3)"
      ],
      "metadata": {
        "colab": {
          "base_uri": "https://localhost:8080/",
          "height": 142
        },
        "id": "xlhss0yaXfz9",
        "outputId": "a1d5f12f-ee56-42e0-9260-6b0434441a32"
      },
      "execution_count": null,
      "outputs": [
        {
          "output_type": "execute_result",
          "data": {
            "text/plain": [
              "                                               image   mask_cat\n",
              "0  <PIL.Image.Image image mode=RGB size=96x116 at...  with_mask\n",
              "1  <PIL.Image.Image image mode=RGB size=116x106 a...  with_mask\n",
              "2  <PIL.Image.Image image mode=RGB size=25x22 at ...  with_mask"
            ],
            "text/html": [
              "\n",
              "  <div id=\"df-265c9ce9-f8d4-49dc-ae23-a8eb0d9b6ebc\">\n",
              "    <div class=\"colab-df-container\">\n",
              "      <div>\n",
              "<style scoped>\n",
              "    .dataframe tbody tr th:only-of-type {\n",
              "        vertical-align: middle;\n",
              "    }\n",
              "\n",
              "    .dataframe tbody tr th {\n",
              "        vertical-align: top;\n",
              "    }\n",
              "\n",
              "    .dataframe thead th {\n",
              "        text-align: right;\n",
              "    }\n",
              "</style>\n",
              "<table border=\"1\" class=\"dataframe\">\n",
              "  <thead>\n",
              "    <tr style=\"text-align: right;\">\n",
              "      <th></th>\n",
              "      <th>image</th>\n",
              "      <th>mask_cat</th>\n",
              "    </tr>\n",
              "  </thead>\n",
              "  <tbody>\n",
              "    <tr>\n",
              "      <th>0</th>\n",
              "      <td>&lt;PIL.Image.Image image mode=RGB size=96x116 at...</td>\n",
              "      <td>with_mask</td>\n",
              "    </tr>\n",
              "    <tr>\n",
              "      <th>1</th>\n",
              "      <td>&lt;PIL.Image.Image image mode=RGB size=116x106 a...</td>\n",
              "      <td>with_mask</td>\n",
              "    </tr>\n",
              "    <tr>\n",
              "      <th>2</th>\n",
              "      <td>&lt;PIL.Image.Image image mode=RGB size=25x22 at ...</td>\n",
              "      <td>with_mask</td>\n",
              "    </tr>\n",
              "  </tbody>\n",
              "</table>\n",
              "</div>\n",
              "      <button class=\"colab-df-convert\" onclick=\"convertToInteractive('df-265c9ce9-f8d4-49dc-ae23-a8eb0d9b6ebc')\"\n",
              "              title=\"Convert this dataframe to an interactive table.\"\n",
              "              style=\"display:none;\">\n",
              "        \n",
              "  <svg xmlns=\"http://www.w3.org/2000/svg\" height=\"24px\"viewBox=\"0 0 24 24\"\n",
              "       width=\"24px\">\n",
              "    <path d=\"M0 0h24v24H0V0z\" fill=\"none\"/>\n",
              "    <path d=\"M18.56 5.44l.94 2.06.94-2.06 2.06-.94-2.06-.94-.94-2.06-.94 2.06-2.06.94zm-11 1L8.5 8.5l.94-2.06 2.06-.94-2.06-.94L8.5 2.5l-.94 2.06-2.06.94zm10 10l.94 2.06.94-2.06 2.06-.94-2.06-.94-.94-2.06-.94 2.06-2.06.94z\"/><path d=\"M17.41 7.96l-1.37-1.37c-.4-.4-.92-.59-1.43-.59-.52 0-1.04.2-1.43.59L10.3 9.45l-7.72 7.72c-.78.78-.78 2.05 0 2.83L4 21.41c.39.39.9.59 1.41.59.51 0 1.02-.2 1.41-.59l7.78-7.78 2.81-2.81c.8-.78.8-2.07 0-2.86zM5.41 20L4 18.59l7.72-7.72 1.47 1.35L5.41 20z\"/>\n",
              "  </svg>\n",
              "      </button>\n",
              "      \n",
              "  <style>\n",
              "    .colab-df-container {\n",
              "      display:flex;\n",
              "      flex-wrap:wrap;\n",
              "      gap: 12px;\n",
              "    }\n",
              "\n",
              "    .colab-df-convert {\n",
              "      background-color: #E8F0FE;\n",
              "      border: none;\n",
              "      border-radius: 50%;\n",
              "      cursor: pointer;\n",
              "      display: none;\n",
              "      fill: #1967D2;\n",
              "      height: 32px;\n",
              "      padding: 0 0 0 0;\n",
              "      width: 32px;\n",
              "    }\n",
              "\n",
              "    .colab-df-convert:hover {\n",
              "      background-color: #E2EBFA;\n",
              "      box-shadow: 0px 1px 2px rgba(60, 64, 67, 0.3), 0px 1px 3px 1px rgba(60, 64, 67, 0.15);\n",
              "      fill: #174EA6;\n",
              "    }\n",
              "\n",
              "    [theme=dark] .colab-df-convert {\n",
              "      background-color: #3B4455;\n",
              "      fill: #D2E3FC;\n",
              "    }\n",
              "\n",
              "    [theme=dark] .colab-df-convert:hover {\n",
              "      background-color: #434B5C;\n",
              "      box-shadow: 0px 1px 3px 1px rgba(0, 0, 0, 0.15);\n",
              "      filter: drop-shadow(0px 1px 2px rgba(0, 0, 0, 0.3));\n",
              "      fill: #FFFFFF;\n",
              "    }\n",
              "  </style>\n",
              "\n",
              "      <script>\n",
              "        const buttonEl =\n",
              "          document.querySelector('#df-265c9ce9-f8d4-49dc-ae23-a8eb0d9b6ebc button.colab-df-convert');\n",
              "        buttonEl.style.display =\n",
              "          google.colab.kernel.accessAllowed ? 'block' : 'none';\n",
              "\n",
              "        async function convertToInteractive(key) {\n",
              "          const element = document.querySelector('#df-265c9ce9-f8d4-49dc-ae23-a8eb0d9b6ebc');\n",
              "          const dataTable =\n",
              "            await google.colab.kernel.invokeFunction('convertToInteractive',\n",
              "                                                     [key], {});\n",
              "          if (!dataTable) return;\n",
              "\n",
              "          const docLinkHtml = 'Like what you see? Visit the ' +\n",
              "            '<a target=\"_blank\" href=https://colab.research.google.com/notebooks/data_table.ipynb>data table notebook</a>'\n",
              "            + ' to learn more about interactive tables.';\n",
              "          element.innerHTML = '';\n",
              "          dataTable['output_type'] = 'display_data';\n",
              "          await google.colab.output.renderOutput(dataTable, element);\n",
              "          const docLink = document.createElement('div');\n",
              "          docLink.innerHTML = docLinkHtml;\n",
              "          element.appendChild(docLink);\n",
              "        }\n",
              "      </script>\n",
              "    </div>\n",
              "  </div>\n",
              "  "
            ]
          },
          "metadata": {},
          "execution_count": 7
        }
      ]
    },
    {
      "cell_type": "code",
      "source": [
        "grouped = df.groupby('mask_cat').count()\n",
        "\n",
        "grouped = grouped.reset_index()"
      ],
      "metadata": {
        "id": "zt-DbNgehJOo"
      },
      "execution_count": null,
      "outputs": []
    },
    {
      "cell_type": "code",
      "source": [
        "grouped['mask_cat']"
      ],
      "metadata": {
        "colab": {
          "base_uri": "https://localhost:8080/"
        },
        "id": "OEmKZyAkhw1D",
        "outputId": "141e5a50-16ec-4227-ef71-a7638d133671"
      },
      "execution_count": null,
      "outputs": [
        {
          "output_type": "execute_result",
          "data": {
            "text/plain": [
              "0       with_mask\n",
              "1    without_mask\n",
              "Name: mask_cat, dtype: object"
            ]
          },
          "metadata": {},
          "execution_count": 16
        }
      ]
    },
    {
      "cell_type": "code",
      "source": [
        "import matplotlib.pyplot as plt\n",
        "\n",
        "colors = ['#2ecc71', '#e74c3c']\n",
        "\n",
        "plt.bar(grouped['mask_cat'], grouped['image'], color=colors)\n",
        "\n",
        "plt.title('Masked vs Unmasked Category')\n",
        "plt.xlabel('Category')\n",
        "plt.ylabel('Count')\n",
        "\n",
        "plt.show()"
      ],
      "metadata": {
        "colab": {
          "base_uri": "https://localhost:8080/",
          "height": 472
        },
        "id": "2M3O7fK5hWmu",
        "outputId": "d4c55a68-d1b4-49c9-adbf-33c7e657f770"
      },
      "execution_count": null,
      "outputs": [
        {
          "output_type": "display_data",
          "data": {
            "text/plain": [
              "<Figure size 640x480 with 1 Axes>"
            ],
            "image/png": "[encoded data removed]"
          },
          "metadata": {}
        }
      ]
    },
    {
      "cell_type": "markdown",
      "source": [
        "## Resampling"
      ],
      "metadata": {
        "id": "P8VHPWSTiupu"
      }
    },
    {
      "cell_type": "code",
      "source": [
        "import cv2\n",
        "from sklearn.utils import shuffle\n",
        "\n",
        "# assume that your original DataFrame is called `df`\n",
        "majority_df = df[df['mask_cat'] == 'with_mask']\n",
        "minority_df = df[df['mask_cat'] == 'without_mask']\n",
        "\n",
        "# assume that `minority_df` has fewer rows than `majority_df`\n",
        "# minority_upsampled = \n",
        "\n",
        "def keep_as_is(image):\n",
        "  return image\n",
        "\n",
        "def add_gaussian_noise(image, mean=0, std=10):\n",
        "    # Convert PIL image to OpenCV format\n",
        "    image_cv = cv2.cvtColor(np.array(image), cv2.COLOR_RGB2BGR)\n",
        "\n",
        "    # Generate Gaussian noise with the specified mean and standard deviation\n",
        "    noise = np.random.normal(mean, std, image_cv.shape).astype(np.uint8)\n",
        "\n",
        "    # Add the noise to the image\n",
        "    noisy_image_cv = cv2.add(image_cv, noise)\n",
        "\n",
        "    # Convert the noisy image back to PIL format\n",
        "    noisy_image = Image.fromarray(cv2.cvtColor(noisy_image_cv, cv2.COLOR_BGR2RGB))\n",
        "\n",
        "    return noisy_image\n",
        "\n",
        "  \n",
        "# def add_gaussian_noise(image, mean=0, std=10):\n",
        "#     image_cv = cv2.cvtColor(np.array(image), cv2.COLOR_RGB2BGR)\n",
        "#     noise = np.random.normal(mean, std, image_cv.shape).astype(np.uint8)\n",
        "#     noisy_image_cv = cv2.add(image_cv, noise)\n",
        "#     noisy_image = Image.fromarray(cv2.cvtColor(noisy_image_cv, cv2.COLOR_BGR2RGB))\n",
        "#     return noisy_image\n",
        "\n",
        "def flip_image(image):\n",
        "    flipped_image = image.transpose(Image.FLIP_LEFT_RIGHT)\n",
        "    return flipped_image\n",
        "\n",
        "def rotate_image(image, angle=45):\n",
        "    rotated_image = image.rotate(angle)\n",
        "    return rotated_image\n",
        "\n",
        "def change_brightness(image, factor=1.5):\n",
        "    enhancer = ImageEnhance.Brightness(image)\n",
        "    brightened_image = enhancer.enhance(factor)\n",
        "    return brightened_image\n",
        "\n",
        "\n",
        "\n",
        "def augment_minority_df(df):\n",
        "    minority_augmented = pd.DataFrame(columns = ['image', 'mask_cat'])\n",
        "    methods = [keep_as_is, rotate_image, flip_image, change_brightness]\n",
        "\n",
        "    # Apply each augmentation method separately\n",
        "    for i in range(4):\n",
        "        #augmented_df = df.copy()\n",
        "\n",
        "        #augmented_df['image'] = augmented_df['image'].apply(methods[i])\n",
        "\n",
        "        # print(methods[i])\n",
        "        \n",
        "        new_method = pd.concat([pd.DataFrame(minority_df['image'].apply(methods[i])), pd.DataFrame(minority_df['mask_cat'])], axis=1)\n",
        "\n",
        "        minority_augmented = pd.concat([minority_augmented, new_method], axis=0)\n",
        "\n",
        "    # Concatenate augmented dataframes and sample based on majority_df length\n",
        "    #minority_upsampled = minority_augmented.sample(n=majority_df.shape[0])\n",
        "\n",
        "    # Shuffle the dataframe\n",
        "    minority_augmented = shuffle(minority_augmented)\n",
        "\n",
        "    return minority_augmented\n",
        "\n",
        "def augment_majority_df(df):\n",
        "    majority_augmented = pd.DataFrame(columns = ['image', 'mask_cat'])\n",
        "    methods = [keep_as_is, rotate_image, flip_image, change_brightness]\n",
        "    start = [0, int(1/4*majority_df.shape[0]), int(2/4*majority_df.shape[0]), int(3/4*majority_df.shape[0])]\n",
        "    end = [int(1/4*majority_df.shape[0]), int(2/4*majority_df.shape[0]), int(3/4*majority_df.shape[0]), majority_df.shape[0]]\n",
        "\n",
        "    # Apply each augmentation method separately\n",
        "    for i in range(4):\n",
        "        #augmented_df = df.copy()\n",
        "\n",
        "        #augmented_df['image'] = augmented_df['image'].apply(methods[i])\n",
        "\n",
        "        # print(methods[i])\n",
        "\n",
        "\n",
        "        new_method = pd.concat([pd.DataFrame(majority_df['image'].iloc[start[i]:end[i]].apply(methods[i])), pd.DataFrame(majority_df['mask_cat'].iloc[start[i]:end[i]])], axis=1)\n",
        "\n",
        "        majority_augmented = pd.concat([majority_augmented, new_method], axis=0)\n",
        "\n",
        "    # Concatenate augmented dataframes and sample based on majority_df length\n",
        "    #minority_upsampled = minority_augmented.sample(n=majority_df.shape[0])\n",
        "\n",
        "    # Shuffle the dataframe\n",
        "    majority_augmented = shuffle(majority_augmented)\n",
        "\n",
        "    return majority_augmented\n",
        "\n",
        "minority_upsampled = augment_minority_df(minority_df)\n",
        "\n",
        "majority_augmented = augment_majority_df(majority_df)"
      ],
      "metadata": {
        "id": "c-rpI_O0YWo1"
      },
      "execution_count": null,
      "outputs": []
    },
    {
      "cell_type": "code",
      "source": [],
      "metadata": {
        "id": "V3IqprEKKZYH"
      },
      "execution_count": null,
      "outputs": []
    },
    {
      "cell_type": "code",
      "source": [
        "import matplotlib.pyplot as plt\n",
        "\n",
        "majority_augmented.iloc[890]['image']\n",
        "# minority_upsampled.iloc[1]"
      ],
      "metadata": {
        "colab": {
          "base_uri": "https://localhost:8080/",
          "height": 41
        },
        "id": "zuwZJhrhjXqp",
        "outputId": "18249c12-95f8-4fa6-c60f-5375a675f675"
      },
      "execution_count": null,
      "outputs": [
        {
          "output_type": "execute_result",
          "data": {
            "text/plain": [
              "<PIL.Image.Image image mode=RGB size=18x24 at 0x7F55B559D6C0>"
            ],
            "image/png": "[encoded data removed]"
          },
          "metadata": {},
          "execution_count": 69
        }
      ]
    },
    {
      "cell_type": "code",
      "source": [
        "minority_all = pd.concat([minority_df, minority_upsampled])\n",
        "\n",
        "balanced_df = pd.concat([majority_augmented, minority_all])\n",
        "\n",
        "balanced_df = balanced_df.sample(frac=1, random_state=42)\n"
      ],
      "metadata": {
        "id": "Je1uZX57ZHYR"
      },
      "execution_count": null,
      "outputs": []
    },
    {
      "cell_type": "code",
      "source": [],
      "metadata": {
        "id": "B4bK_SFSSx_F"
      },
      "execution_count": null,
      "outputs": []
    },
    {
      "cell_type": "code",
      "source": [
        "threshold = np.round(len(df)*0.9)\n",
        "\n",
        "train = df.iloc[0:int(threshold)]\n",
        "test = df.iloc[int(threshold):]"
      ],
      "metadata": {
        "id": "7PkLhLJtZI8l"
      },
      "execution_count": null,
      "outputs": []
    },
    {
      "cell_type": "code",
      "source": [
        "train['mask_cat'].value_counts()"
      ],
      "metadata": {
        "colab": {
          "base_uri": "https://localhost:8080/"
        },
        "id": "d5ftVKUIRD4V",
        "outputId": "f9a2e785-65f5-42bd-d6ee-ea607b7ab671"
      },
      "execution_count": null,
      "outputs": [
        {
          "output_type": "execute_result",
          "data": {
            "text/plain": [
              "with_mask       2928\n",
              "without_mask     626\n",
              "Name: mask_cat, dtype: int64"
            ]
          },
          "metadata": {},
          "execution_count": 13
        }
      ]
    },
    {
      "cell_type": "code",
      "source": [
        "test['mask_cat'].value_counts()"
      ],
      "metadata": {
        "colab": {
          "base_uri": "https://localhost:8080/"
        },
        "id": "JI8a81w2S0oK",
        "outputId": "72609c63-51a3-41f7-cfb5-756c4352382b"
      },
      "execution_count": null,
      "outputs": [
        {
          "output_type": "execute_result",
          "data": {
            "text/plain": [
              "with_mask       304\n",
              "without_mask     91\n",
              "Name: mask_cat, dtype: int64"
            ]
          },
          "metadata": {},
          "execution_count": 14
        }
      ]
    },
    {
      "cell_type": "code",
      "source": [
        "train_with_mask = train[train['mask_cat'] == 'with_mask']['image']\n",
        "train_without_mask = train[train['mask_cat'] == 'without_mask']['image']\n",
        "\n",
        "test = test['image']"
      ],
      "metadata": {
        "id": "pqKpBVPFZUww"
      },
      "execution_count": null,
      "outputs": []
    },
    {
      "cell_type": "code",
      "source": [
        "test_res_df = pd.DataFrame(df.iloc[int(threshold):]['mask_cat'].map({'with_mask': 1, 'without_mask': 0}))"
      ],
      "metadata": {
        "id": "dcpo7SFe-uPY"
      },
      "execution_count": null,
      "outputs": []
    },
    {
      "cell_type": "code",
      "source": [
        "test_res_df.to_csv('/content/drive/My Drive/S23-ML/final/test_res_new.csv')"
      ],
      "metadata": {
        "id": "G4sUsdf5_a6E"
      },
      "execution_count": null,
      "outputs": []
    },
    {
      "cell_type": "code",
      "source": [
        "balanced_df.iloc[int(threshold):]['mask_cat'].value_counts()"
      ],
      "metadata": {
        "id": "fdW_arOr_Oid",
        "colab": {
          "base_uri": "https://localhost:8080/"
        },
        "outputId": "fcf5cee7-87cf-499e-d683-bed562ec6ede"
      },
      "execution_count": null,
      "outputs": [
        {
          "output_type": "execute_result",
          "data": {
            "text/plain": [
              "without_mask    104\n",
              "with_mask       101\n",
              "Name: mask_cat, dtype: int64"
            ]
          },
          "metadata": {},
          "execution_count": 89
        }
      ]
    },
    {
      "cell_type": "code",
      "source": [
        "path_to_save = '/content/drive/My Drive/S23-ML/final/'\n",
        "\n",
        "\n",
        "\n",
        "train_dir_with = os.path.join(path_to_save,'data_train_new/with_mask')\n",
        "\n",
        "train_dir_without = os.path.join(path_to_save,'data_train_new/without_mask')\n",
        "\n",
        "test_dir = os.path.join(path_to_save,'data_test_new')\n",
        "\n",
        "\n",
        "\n",
        "os.makedirs(train_dir_with)\n",
        "os.makedirs(train_dir_without)\n",
        "# os.makedirs(os.path.join('/content/drive/My Drive/S23-ML/final/data_train/', 'without_mask' ))\n",
        "os.makedirs(test_dir)\n"
      ],
      "metadata": {
        "id": "5HVosxIF5JVz"
      },
      "execution_count": null,
      "outputs": []
    },
    {
      "cell_type": "code",
      "source": [],
      "metadata": {
        "id": "PDUQ49F_8N15"
      },
      "execution_count": null,
      "outputs": []
    },
    {
      "cell_type": "code",
      "source": [
        " cnt = 0\n",
        " for image in train_with_mask:\n",
        "   cnt += 1\n",
        "   image.save(path_to_save+f'data_train_new/with_mask/{cnt}.png')"
      ],
      "metadata": {
        "id": "BzYwxKlL7bDZ"
      },
      "execution_count": null,
      "outputs": []
    },
    {
      "cell_type": "code",
      "source": [
        " cnt = 0\n",
        " for image in train_without_mask:\n",
        "   cnt += 1\n",
        "   image.save(path_to_save+f'data_train_new/without_mask/{cnt}.png')"
      ],
      "metadata": {
        "id": "iqBpdHd-74As"
      },
      "execution_count": null,
      "outputs": []
    },
    {
      "cell_type": "code",
      "source": [
        " cnt = 0\n",
        " for image in test:\n",
        "   cnt += 1\n",
        "   image.save(path_to_save+f'data_test_new/{cnt}.png')"
      ],
      "metadata": {
        "id": "JQoacqyo775r"
      },
      "execution_count": null,
      "outputs": []
    },
    {
      "cell_type": "code",
      "source": [],
      "metadata": {
        "id": "aUNEPu1iTuFT"
      },
      "execution_count": null,
      "outputs": []
    }
  ]
}